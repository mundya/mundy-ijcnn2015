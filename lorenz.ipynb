{
 "metadata": {
  "name": "lorenz"
 },
 "nbformat": 3,
 "nbformat_minor": 0,
 "worksheets": [
  {
   "cells": [
    {
     "cell_type": "markdown",
     "metadata": {},
     "source": [
      "# Nengo Lorenz attractor model"
     ]
    },
    {
     "cell_type": "code",
     "collapsed": false,
     "input": [
      "# Plot the results\n",
      "import matplotlib.pyplot as plt\n",
      "from mpl_toolkits.mplot3d import Axes3D\n",
      "import numpy as np\n",
      "\n",
      "# Set up parameters\n",
      "tau = 0.1\n",
      "sigma = 10\n",
      "beta = 8.0/3\n",
      "rho = 28"
     ],
     "language": "python",
     "metadata": {},
     "outputs": [],
     "prompt_number": 1
    },
    {
     "cell_type": "code",
     "collapsed": false,
     "input": [
      "import nengo\n",
      "model = nengo.Network(label='Lorenz attractor')\n",
      "with model:\n",
      "    state = nengo.Ensemble(2000, dimensions=3, radius=60, label='state')\n",
      "    \n",
      "    def feedback(x):\n",
      "        dx0 = -sigma * x[0] + sigma * x[1]\n",
      "        dx1 = -x[0] * x[2] - x[1]\n",
      "        dx2 = x[0] * x[1] - beta * (x[2] + rho) - rho\n",
      "        \n",
      "        return [dx0 * tau + x[0], \n",
      "                dx1 * tau + x[1], \n",
      "                dx2 * tau + x[2]]\n",
      "        \n",
      "    st_conn = nengo.Connection(state, state, function=feedback, synapse=tau)\n",
      "    st_probe = nengo.Probe(state, synapse=tau)\n",
      "    \n",
      "# Again, we build but don't run in order to get a detailed model.\n",
      "sim = nengo.Simulator(model)"
     ],
     "language": "python",
     "metadata": {},
     "outputs": [],
     "prompt_number": 2
    },
    {
     "cell_type": "code",
     "collapsed": false,
     "input": [
      "sim.run(10)"
     ],
     "language": "python",
     "metadata": {},
     "outputs": [],
     "prompt_number": 3
    },
    {
     "cell_type": "code",
     "collapsed": false,
     "input": [
      "fig = plt.figure(figsize=(8,12))\n",
      "ax = fig.add_subplot(211, projection='3d')\n",
      "ax.plot(sim.data[st_probe][:,0], sim.data[st_probe][:,1], sim.data[st_probe][:,2]) \n",
      "plt.show()"
     ],
     "language": "python",
     "metadata": {},
     "outputs": [
      {
       "ename": "NameError",
       "evalue": "name 'plt' is not defined",
       "output_type": "pyerr",
       "traceback": [
        "\u001b[1;31m---------------------------------------------------------------------------\u001b[0m\n\u001b[1;31mNameError\u001b[0m                                 Traceback (most recent call last)",
        "\u001b[1;32m<ipython-input-4-61a7a84a255b>\u001b[0m in \u001b[0;36m<module>\u001b[1;34m()\u001b[0m\n\u001b[1;32m----> 1\u001b[1;33m \u001b[0mfig\u001b[0m \u001b[1;33m=\u001b[0m \u001b[0mplt\u001b[0m\u001b[1;33m.\u001b[0m\u001b[0mfigure\u001b[0m\u001b[1;33m(\u001b[0m\u001b[0mfigsize\u001b[0m\u001b[1;33m=\u001b[0m\u001b[1;33m(\u001b[0m\u001b[1;36m8\u001b[0m\u001b[1;33m,\u001b[0m\u001b[1;36m12\u001b[0m\u001b[1;33m)\u001b[0m\u001b[1;33m)\u001b[0m\u001b[1;33m\u001b[0m\u001b[0m\n\u001b[0m\u001b[0;32m      2\u001b[0m \u001b[0max\u001b[0m \u001b[1;33m=\u001b[0m \u001b[0mfig\u001b[0m\u001b[1;33m.\u001b[0m\u001b[0madd_subplot\u001b[0m\u001b[1;33m(\u001b[0m\u001b[1;36m211\u001b[0m\u001b[1;33m,\u001b[0m \u001b[0mprojection\u001b[0m\u001b[1;33m=\u001b[0m\u001b[1;34m'3d'\u001b[0m\u001b[1;33m)\u001b[0m\u001b[1;33m\u001b[0m\u001b[0m\n\u001b[0;32m      3\u001b[0m \u001b[0max\u001b[0m\u001b[1;33m.\u001b[0m\u001b[0mplot\u001b[0m\u001b[1;33m(\u001b[0m\u001b[0msim\u001b[0m\u001b[1;33m.\u001b[0m\u001b[0mdata\u001b[0m\u001b[1;33m[\u001b[0m\u001b[0mst_probe\u001b[0m\u001b[1;33m]\u001b[0m\u001b[1;33m[\u001b[0m\u001b[1;33m:\u001b[0m\u001b[1;33m,\u001b[0m\u001b[1;36m0\u001b[0m\u001b[1;33m]\u001b[0m\u001b[1;33m,\u001b[0m \u001b[0msim\u001b[0m\u001b[1;33m.\u001b[0m\u001b[0mdata\u001b[0m\u001b[1;33m[\u001b[0m\u001b[0mst_probe\u001b[0m\u001b[1;33m]\u001b[0m\u001b[1;33m[\u001b[0m\u001b[1;33m:\u001b[0m\u001b[1;33m,\u001b[0m\u001b[1;36m1\u001b[0m\u001b[1;33m]\u001b[0m\u001b[1;33m,\u001b[0m \u001b[0msim\u001b[0m\u001b[1;33m.\u001b[0m\u001b[0mdata\u001b[0m\u001b[1;33m[\u001b[0m\u001b[0mst_probe\u001b[0m\u001b[1;33m]\u001b[0m\u001b[1;33m[\u001b[0m\u001b[1;33m:\u001b[0m\u001b[1;33m,\u001b[0m\u001b[1;36m2\u001b[0m\u001b[1;33m]\u001b[0m\u001b[1;33m)\u001b[0m\u001b[1;33m\u001b[0m\u001b[0m\n\u001b[0;32m      4\u001b[0m \u001b[0mplt\u001b[0m\u001b[1;33m.\u001b[0m\u001b[0mshow\u001b[0m\u001b[1;33m(\u001b[0m\u001b[1;33m)\u001b[0m\u001b[1;33m\u001b[0m\u001b[0m\n",
        "\u001b[1;31mNameError\u001b[0m: name 'plt' is not defined"
       ]
      }
     ],
     "prompt_number": 4
    },
    {
     "cell_type": "code",
     "collapsed": false,
     "input": [
      "\n",
      "\n",
      "# Get the details we need.\n",
      "enc = sim.model.params[state].encoders\n",
      "\n",
      "dec = sim.model.params[st_conn].decoders.T"
     ],
     "language": "python",
     "metadata": {},
     "outputs": []
    },
    {
     "cell_type": "markdown",
     "metadata": {},
     "source": [
      "# PyNN Lorenz attractor model"
     ]
    },
    {
     "cell_type": "code",
     "collapsed": false,
     "input": [
      "#import pyNN.brian as pyNN  # Brian gives decent results. Others are less decent, but we'll use them for benchmarking.\n",
      "import pyNN.nest as pyNN\n",
      "#import pyNN.neuron as pyNN\n",
      "#import pyNN.pcsim as pyNN"
     ],
     "language": "python",
     "metadata": {},
     "outputs": []
    },
    {
     "cell_type": "code",
     "collapsed": false,
     "input": [
      "# Some parameters and functions for the simulation\n",
      "\n",
      "lif_params = {'tau_refrac': 2.0, 'tau_syn_E':100, 'tau_syn_I':100}\n",
      "\n",
      "# Note that this is in milliseconds. We should use 0.5 in order to plot the results,\n",
      "# but 1.0 for benchmarking in order to compare appropriately to Nengo.\n",
      "timestep = 0.5\n",
      "\n",
      "def get_spike_rates(pop, t):\n",
      "    counts = [val for key, val in sorted(pop.get_spike_counts().iteritems(), key=lambda (k,v):k)]\n",
      "    return np.asarray(counts) * 1000 / t\n",
      "\n",
      "def inject_bias(pop, nengo_pop):\n",
      "    biases = sim.model.params[state].bias\n",
      "\n",
      "    pulses = [pyNN.DCSource(amplitude=val) for val in biases]\n",
      "    for i, pulse in enumerate(pulses):\n",
      "        pulse.inject_into(pop[i:i+1])\n",
      "\n",
      "def decode(ensemble, decoder, T, dt=0.5, tau=200):\n",
      "    data = np.zeros((int(T/dt)+1, decoder.shape[1]), dtype='float')\n",
      "    \n",
      "    for i in range(decoder.shape[0]):\n",
      "        spikes = ensemble[i:i+1].getSpikes()[:,1]\n",
      "        spikes = (spikes/dt).astype('int')\n",
      "        data[spikes] += decoder[i]\n",
      "        \n",
      "    if tau is not None and tau>dt:\n",
      "        decay = np.exp(-dt/tau)\n",
      "        data[0,:] *= (1-decay)\n",
      "        for i in range(1, data.shape[0]):\n",
      "            data[i,:] = decay*data[i-1,:] + (1-decay)*data[i,:]\n",
      "\n",
      "    return data"
     ],
     "language": "python",
     "metadata": {},
     "outputs": []
    },
    {
     "cell_type": "code",
     "collapsed": false,
     "input": [
      "# This implements the Lorenz attractor.\n",
      "\n",
      "pyNN.setup(timestep=timestep, min_delay=timestep)\n",
      "pynnState = pyNN.Population(state.n_neurons, pyNN.IF_curr_exp, lif_params)\n",
      "inject_bias(pynnState, state)\n",
      "\n",
      "weights = []\n",
      "for i in xrange(state.n_neurons):\n",
      "    for j in xrange(state.n_neurons):\n",
      "        weights.append((i, j, np.dot(dec[i], enc[j]) / 1400, 1.0))\n",
      "print weights\n",
      "\n",
      "connection = pyNN.Projection(pynnState, pynnState, pyNN.FromListConnector(weights))\n",
      "pynnState.record('spikes')\n",
      "t = 1000.0\n",
      "pyNN.run(t)\n",
      "spikes = pynnState.getSpikes()"
     ],
     "language": "python",
     "metadata": {},
     "outputs": []
    },
    {
     "cell_type": "code",
     "collapsed": false,
     "input": [
      "state_data = decode(pynnState, dec, T=t)\n",
      "\n",
      "fig = plt.figure(figsize=(8,12))\n",
      "ax = fig.add_subplot(211, projection='3d')\n",
      "ax.plot(state_data[:,0], state_data[:,1], state_data[:,2]) \n",
      "ax = fig.add_subplot(212)\n",
      "ax.plot(state_data);\n",
      "plt.show()"
     ],
     "language": "python",
     "metadata": {},
     "outputs": []
    },
    {
     "cell_type": "code",
     "collapsed": false,
     "input": [],
     "language": "python",
     "metadata": {},
     "outputs": []
    }
   ],
   "metadata": {}
  }
 ]
}