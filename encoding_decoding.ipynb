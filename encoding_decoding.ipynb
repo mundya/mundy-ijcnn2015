{
 "metadata": {
  "name": "",
  "signature": "sha256:c6288465e69037fc2eb10efe6797fb4f7d080d6dcc9cba5d23ef0797a49c65db"
 },
 "nbformat": 3,
 "nbformat_minor": 0,
 "worksheets": [
  {
   "cells": [
    {
     "cell_type": "markdown",
     "metadata": {},
     "source": [
      "# Encoding and Decoding using NEF"
     ]
    },
    {
     "cell_type": "code",
     "collapsed": false,
     "input": [
      "import nengo\n",
      "import numpy as np\n",
      "from matplotlib import pyplot as plt\n",
      "import seaborn as sns\n",
      "%matplotlib inline"
     ],
     "language": "python",
     "metadata": {},
     "outputs": []
    },
    {
     "cell_type": "code",
     "collapsed": false,
     "input": [
      "sns.set(context=\"talk\", style=\"whitegrid\")"
     ],
     "language": "python",
     "metadata": {},
     "outputs": []
    },
    {
     "cell_type": "markdown",
     "metadata": {},
     "source": [
      "## Scalars"
     ]
    },
    {
     "cell_type": "code",
     "collapsed": false,
     "input": [
      "with nengo.Network() as n:\n",
      "    a = nengo.Ensemble(2, 1)\n",
      "    a.encoders = np.array([[1], [-1]])\n",
      "    a.intercepts = np.array([-0.25] * 2)\n",
      "    a.max_rates = np.array([200.] * 2)\n",
      "    \n",
      "    inp = nengo.Node(lambda t: np.sin(2*np.pi*t), size_in=0, size_out=1)\n",
      "    \n",
      "    nengo.Connection(inp, a)\n",
      "    p_spikes = nengo.Probe(a.neurons)\n",
      "    p_inp = nengo.Probe(inp)\n",
      "\n",
      "sim = nengo.Simulator(n)\n",
      "sim.run(1.0)"
     ],
     "language": "python",
     "metadata": {},
     "outputs": []
    },
    {
     "cell_type": "code",
     "collapsed": false,
     "input": [
      "# Decode the spikes\n",
      "spikes_0 = sim.data[p_spikes].T[0] * sim.dt\n",
      "spikes_1 = sim.data[p_spikes].T[1] * sim.dt * -1\n",
      "\n",
      "# Synaptic filtering\n",
      "def filter_spikes(spikes, psc=0.01):\n",
      "    values = [0.0]\n",
      "    val = 0.0\n",
      "    scaling = 1.0 - np.exp(-sim.dt / psc)\n",
      "    pre_scaling = np.exp(-sim.dt / psc)\n",
      "\n",
      "    for i in range(1, len(spikes_0)):\n",
      "        values.append(val)\n",
      "        val = val * pre_scaling + spikes[i] * scaling\n",
      "    \n",
      "    return np.array(values)\n",
      "\n",
      "decoding_0 = filter_spikes(spikes_0) * 5\n",
      "decoding_1 = filter_spikes(spikes_1) * 5"
     ],
     "language": "python",
     "metadata": {},
     "outputs": []
    },
    {
     "cell_type": "code",
     "collapsed": false,
     "input": [
      "import matplotlib as mpl\n",
      "mpl.rc('font', family='Source Sans Pro')\n",
      "\n",
      "# Create the figure\n",
      "fig = plt.figure()\n",
      "ax0 = fig.add_subplot(211)\n",
      "ax1 = fig.add_subplot(223)\n",
      "ax2 = fig.add_subplot(224)\n",
      "\n",
      "# Spikes and encoding with PSC\n",
      "ax0.plot(sim.trange(), decoding_0)\n",
      "ax0.plot(sim.trange(), decoding_1)\n",
      "ax0.set_xlabel(\"Time / s\")\n",
      "ax0.set_ylabel(\"Post Synaptic Current\")\n",
      "ax0.set_title(\"Encoding\")\n",
      "\n",
      "ax0b = ax0.twinx()\n",
      "ax0b.eventplot([spikes_1 * sim.trange() * -1, spikes_0 * sim.trange()],\n",
      "              colors=[sns.color_palette()[1], sns.color_palette()[0]],\n",
      "              lineoffsets=[-1, 1], linelengths=[0.1] * 2)\n",
      "ax0b.set_ylim(-1.1, 1.1)\n",
      "ax0b.set_yticks([-1, 1])\n",
      "ax0b.set_yticklabels(['b', 'a'])\n",
      "ax0b.grid(False)\n",
      "ax0b.set_ylabel(\"Neuron\")\n",
      "\n",
      "# Tuning curves\n",
      "from nengo.utils.ensemble import response_curves, tuning_curves\n",
      "ax1.plot(*tuning_curves(a, sim))\n",
      "ax1.set_xlabel(\"Input\")\n",
      "ax1.set_ylabel(\"Firing rate / Hz\")\n",
      "ax1.set_title(\"Tuning curves\")\n",
      "\n",
      "# Decoding\n",
      "ax2.plot(sim.trange(), decoding_0 + decoding_1, label=\"Output\", color=\"0.5\")\n",
      "ax2.plot(sim.trange(), sim.data[p_inp], label=\"Input\", color=\"0\")\n",
      "ax2.legend(loc=\"upper right\")\n",
      "ax2.yaxis.tick_right()\n",
      "ax2.yaxis.set_label_position(\"right\")\n",
      "ax2.set_xlabel(\"Time / s\")\n",
      "ax2.set_title(\"Decoding\")\n",
      "\n",
      "# Pad\n",
      "fig.tight_layout(h_pad=1)\n",
      "fig.savefig(\"encoding_decoding.pdf\")"
     ],
     "language": "python",
     "metadata": {},
     "outputs": []
    },
    {
     "cell_type": "markdown",
     "metadata": {},
     "source": [
      "## Vectors"
     ]
    },
    {
     "cell_type": "code",
     "collapsed": false,
     "input": [
      "encoder_angles = (np.arange(4) / 2.0 + 0.25) * np.pi\n",
      "encoders = np.array([np.sin(encoder_angles), np.cos(encoder_angles)]).T\n",
      "\n",
      "with nengo.Network() as n:\n",
      "    ens = nengo.Ensemble(4, 2)\n",
      "    ens.encoders = encoders\n",
      "    ens.intercepts = np.array([-0.25] * 4)\n",
      "    ens.max_rates = np.random.uniform(100, 200, size=4)\n",
      "    \n",
      "    inp = nengo.Node(lambda t: [np.sin(2*np.pi*t), np.cos(2*np.pi*t)], size_in=0, size_out=2)\n",
      "    \n",
      "    nengo.Connection(inp, ens)\n",
      "    p_spikes = nengo.Probe(ens.neurons)\n",
      "    p_output = nengo.Probe(ens, synapse=0.05)\n",
      "    p_inp = nengo.Probe(inp)\n",
      "\n",
      "sim = nengo.Simulator(n)\n",
      "sim.run(1.0)"
     ],
     "language": "python",
     "metadata": {},
     "outputs": []
    },
    {
     "cell_type": "code",
     "collapsed": false,
     "input": [
      "# Create the figure\n",
      "fig = plt.figure()\n",
      "ax1 = fig.add_subplot(211)\n",
      "ax2 = fig.add_subplot(223)\n",
      "ax3 = fig.add_subplot(224)\n",
      "\n",
      "# Plot the input and the spikes\n",
      "ax1.plot(sim.trange(), sim.data[p_inp].T[0], color='0.50')\n",
      "ax1.plot(sim.trange(), sim.data[p_inp].T[1], color='0.25')\n",
      "ax1.set_ylabel(\"Input\")\n",
      "ax1.set_xlabel(\"Time / s\")\n",
      "ax1.set_title(\"Encoding\")\n",
      "\n",
      "ax1b = ax1.twinx()\n",
      "ax1b.grid(False)\n",
      "ax1b.eventplot(sim.data[p_spikes].T * sim.dt * sim.trange(),\n",
      "               colors=[sns.color_palette()[n] for n in range(4)],\n",
      "               lineoffsets=[n for n in range(4)], linelengths=[1])\n",
      "ax1b.set_yticks([0, 1, 2, 3])\n",
      "ax1b.set_yticklabels(['a', 'b', 'c', 'd'])\n",
      "ax1b.set_ylabel(\"Neuron\")\n",
      "ax1b.set_ylim(-0.5, 3.5)\n",
      "\n",
      "# Plot the tuning curves\n",
      "for n, a in enumerate(['a', 'b', 'c', 'd']):\n",
      "    angles = np.linspace(0, 2*np.pi, 100)\n",
      "    vecs = np.vstack([np.sin(angles), np.cos(angles)]).T\n",
      "    encoded = []\n",
      "    \n",
      "    for v in vecs[:]:\n",
      "        encoded.append(np.dot(ens.encoders[n], v))\n",
      "        \n",
      "    ins, response = response_curves(ens, sim, np.array(encoded))\n",
      "    assert np.all(ins == encoded)\n",
      "    ax2.plot(angles, response.T[n])\n",
      "\n",
      "ax2.set_xlim(0, 2*np.pi)\n",
      "ax2.set_xlabel(\"Angle\")\n",
      "ax2.set_xticks(np.array([0, 0.5, 1.0, 1.5, 2.0]) * np.pi)\n",
      "ax2.set_xticklabels(['$0$', '$0.5\\pi$', '$\\pi$', '$1.5\\pi$', '$2\\pi$'])\n",
      "ax2.set_ylabel(\"Firing rate / Hz\")\n",
      "ax2.set_title('Tuning curves')\n",
      "\n",
      "# Plot the decoded value\n",
      "ax3.set_title(\"Decoding\")\n",
      "\n",
      "xs, ys = sim.data[p_output].T\n",
      "n_points = len(xs) - 1\n",
      "for n in range(n_points):\n",
      "    ax3.plot(xs[n:n+2], ys[n:n+2],\n",
      "             linewidth=2,\n",
      "             color='{:f}'.format((1. - float(n)/n_points) * .85))\n",
      "\n",
      "ax3.set_xlim(-1, 1)\n",
      "ax3.set_ylim(-1, 1)\n",
      "ax3.yaxis.tick_right()\n",
      "\n",
      "# Layout\n",
      "fig.tight_layout(h_pad=1)\n",
      "fig.savefig(\"encoding_decoding2d.pdf\")"
     ],
     "language": "python",
     "metadata": {},
     "outputs": []
    },
    {
     "cell_type": "code",
     "collapsed": false,
     "input": [],
     "language": "python",
     "metadata": {},
     "outputs": []
    }
   ],
   "metadata": {}
  }
 ]
}