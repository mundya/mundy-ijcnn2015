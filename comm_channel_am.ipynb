{
 "metadata": {
  "name": "",
  "signature": "sha256:1dd44c592f10f437bc12c42b4461e410d69b831063a1a1b4c605aff32305e263"
 },
 "nbformat": 3,
 "nbformat_minor": 0,
 "worksheets": [
  {
   "cells": [
    {
     "cell_type": "markdown",
     "metadata": {},
     "source": [
      "# Communication Channel network usage\n",
      "\n",
      "Create a communication channel, supply it with whitenoise and plot a graph of the mean packet injection rate for spike- and value-based transmission."
     ]
    },
    {
     "cell_type": "code",
     "collapsed": false,
     "input": [
      "import numpy as np\n",
      "import nengo\n",
      "%matplotlib inline\n",
      "from matplotlib import pyplot as plt\n",
      "\n",
      "try:\n",
      "    import seaborn as sns\n",
      "    sns.set(context='paper', style='whitegrid', palette='gray')\n",
      "except ImportError:\n",
      "    pass\n",
      "\n",
      "class BoundedValue(object):\n",
      "    def __init__(self, dims):\n",
      "        self.dims = dims\n",
      "    \n",
      "    def __call__(self, t):\n",
      "        # Generate a random dim-dimension vector\n",
      "        val = np.random.normal(size=self.dims)\n",
      "        val /= np.sqrt(np.sum(val**2))\n",
      "        return val"
     ],
     "language": "python",
     "metadata": {},
     "outputs": []
    },
    {
     "cell_type": "code",
     "collapsed": false,
     "input": [
      "def simulate_with_d(d, **kwargs):\n",
      "    with nengo.Network(label=\"CommChannel1\") as model:\n",
      "        inp = nengo.Node(BoundedValue(d))\n",
      "        inp_ = nengo.Node(None, size_in=d)\n",
      "        \n",
      "        if 'neurons_per_dimension' in kwargs:\n",
      "            assert 'n_neurons' not in kwargs\n",
      "            a = nengo.Ensemble(kwargs['neurons_per_dimension'] * d, d)\n",
      "            b = nengo.Ensemble(kwargs['neurons_per_dimension'] * d, d)\n",
      "        elif 'n_neurons' in kwargs:\n",
      "            assert 'neurons_per_dimension' not in kwargs\n",
      "            a = nengo.Ensemble(kwargs['n_neurons'], d)\n",
      "            b = nengo.Ensemble(kwargs['n_neurons'], d)\n",
      "\n",
      "        nengo.Connection(inp, inp_, synapse=0.01)\n",
      "        nengo.Connection(inp_, a)\n",
      "        nengo.Connection(a, b)\n",
      "\n",
      "        p_a = nengo.Probe(a.neurons)\n",
      "        p_inp = nengo.Probe(inp_)\n",
      "\n",
      "    sim = nengo.Simulator(model)\n",
      "    sim.run(10.)\n",
      "\n",
      "    spikes_per_step = np.sum(sim.data[p_a]/1000., axis=1)\n",
      "    mean_spikes_per_step = np.mean(spikes_per_step)\n",
      "    dev_spikes_per_step = np.std(spikes_per_step)\n",
      "    \n",
      "    return mean_spikes_per_step, dev_spikes_per_step"
     ],
     "language": "python",
     "metadata": {},
     "outputs": []
    },
    {
     "cell_type": "code",
     "collapsed": false,
     "input": [
      "dims = [1, 2, 4, 8, 16, 32]\n",
      "means_varying = np.zeros(len(dims))\n",
      "devs_varying = np.zeros(len(dims))\n",
      "means_fixed = np.zeros(len(dims))\n",
      "devs_fixed = np.zeros(len(dims))\n",
      "\n",
      "for i, d in enumerate(dims):\n",
      "    means_varying[i], devs_varying[i] = simulate_with_d(d, neurons_per_dimension=50)\n",
      "    means_fixed[i], devs_fixed[i] = simulate_with_d(d, n_neurons=400)"
     ],
     "language": "python",
     "metadata": {},
     "outputs": []
    },
    {
     "cell_type": "code",
     "collapsed": false,
     "input": [
      "fig, ax = plt.subplots(figsize=(3.375, 2.))\n",
      "\n",
      "ax.set_xlabel('Number of dimensions (neurons)')\n",
      "ax.set_ylabel('Packets per timestep')\n",
      "\n",
      "ax.plot(dims, means_varying)\n",
      "ax.errorbar(dims, means_varying, devs_varying, label='Spike transmission\\n(50 neurons per dimension)')\n",
      "\n",
      "ax.plot(dims, means_fixed)\n",
      "ax.errorbar(dims, means_fixed, devs_fixed, label='Spike transmission\\n(400 neurons)')\n",
      "\n",
      "ax.plot(dims, dims, label='Value transmission')\n",
      "\n",
      "ax.set_xscale('log', basex=2)\n",
      "ax.set_xlim(0.9, 36)\n",
      "\n",
      "ax.set_xticks(dims)\n",
      "ax.set_xticklabels(['{}\\n({})'.format(d, d*50) for d in dims])\n",
      "\n",
      "ax.legend(loc='upper left')\n",
      "ax.set_title('Network usage (plain ensembles)')\n",
      "fig.tight_layout(pad=0.5)\n",
      "fig.savefig('paper/network-1.pdf')"
     ],
     "language": "python",
     "metadata": {},
     "outputs": []
    },
    {
     "cell_type": "markdown",
     "metadata": {},
     "source": [
      "## Using Ensemble Arrays\n",
      "\n",
      "Common practise is to use Ensemble arrays to limit the number of dimensions represented by each Ensemble to 4."
     ]
    },
    {
     "cell_type": "code",
     "collapsed": false,
     "input": [
      "def simulate_with_d(d, **kwargs):\n",
      "    assert d % 4 == 0\n",
      "    with nengo.Network(label=\"CommChannel1\") as model:\n",
      "        inp = nengo.Node(BoundedValue(d))\n",
      "        inp_ = nengo.Node(None, size_in=d)\n",
      "        \n",
      "        if 'neurons_per_dimension' in kwargs:\n",
      "            assert 'n_neurons' not in kwargs\n",
      "            a = nengo.Ensemble(kwargs['neurons_per_dimension'] * d, d)\n",
      "            b = nengo.Ensemble(kwargs['neurons_per_dimension'] * d, d)\n",
      "        elif 'n_neurons' in kwargs:\n",
      "            assert 'neurons_per_dimension' not in kwargs\n",
      "            a = nengo.Ensemble(kwargs['n_neurons'], d)\n",
      "            b = nengo.Ensemble(kwargs['n_neurons'], d)\n",
      "\n",
      "        nengo.Connection(inp, inp_, synapse=0.01)\n",
      "        nengo.Connection(inp_, a)\n",
      "        nengo.Connection(a, b)\n",
      "\n",
      "        p_a = nengo.Probe(a.neurons)\n",
      "        p_inp = nengo.Probe(inp_)\n",
      "\n",
      "    sim = nengo.Simulator(model)\n",
      "    sim.run(10.)\n",
      "\n",
      "    spikes_per_step = np.sum(sim.data[p_a]/1000., axis=1)\n",
      "    mean_spikes_per_step = np.mean(spikes_per_step)\n",
      "    dev_spikes_per_step = np.std(spikes_per_step)\n",
      "    \n",
      "    return mean_spikes_per_step, dev_spikes_per_step"
     ],
     "language": "python",
     "metadata": {},
     "outputs": []
    }
   ],
   "metadata": {}
  }
 ]
}