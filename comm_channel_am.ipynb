{
 "metadata": {
  "name": "",
  "signature": "sha256:1dd44c592f10f437bc12c42b4461e410d69b831063a1a1b4c605aff32305e263"
 },
 "nbformat": 3,
 "nbformat_minor": 0,
 "worksheets": [
  {
   "cells": [
    {
     "cell_type": "markdown",
     "metadata": {},
     "source": [
      "# Communication Channel network usage\n",
      "\n",
      "Create a communication channel, supply it with whitenoise and plot a graph of the mean packet injection rate for spike- and value-based transmission."
     ]
    },
    {
     "cell_type": "code",
     "collapsed": false,
     "input": [
      "import numpy as np\n",
      "import nengo\n",
      "%matplotlib inline\n",
      "from matplotlib import pyplot as plt\n",
      "\n",
      "try:\n",
      "    import seaborn as sns\n",
      "    sns.set(context='paper', style='whitegrid', palette='gray')\n",
      "except ImportError:\n",
      "    pass\n",
      "\n",
      "neurons_per_dimension = 70\n",
      "\n",
      "class BoundedValue(object):\n",
      "    def __init__(self, dims):\n",
      "        self.dims = dims\n",
      "    \n",
      "    def __call__(self, t):\n",
      "        # Generate a random dim-dimension vector\n",
      "        val = np.random.normal(size=self.dims)\n",
      "        val /= np.sqrt(np.sum(val**2))\n",
      "        return val"
     ],
     "language": "python",
     "metadata": {},
     "outputs": []
    },
    {
     "cell_type": "code",
     "collapsed": false,
     "input": [
      "def simulate_with_d(d, **kwargs):\n",
      "    with nengo.Network(label=\"CommChannel1\") as model:\n",
      "        inp = nengo.Node(BoundedValue(d))\n",
      "        inp_ = nengo.Node(None, size_in=d)\n",
      "        \n",
      "        if 'neurons_per_dimension' in kwargs:\n",
      "            assert 'n_neurons' not in kwargs\n",
      "            a = nengo.Ensemble(kwargs['neurons_per_dimension'] * d, d)\n",
      "            b = nengo.Ensemble(kwargs['neurons_per_dimension'] * d, d)\n",
      "        elif 'n_neurons' in kwargs:\n",
      "            assert 'neurons_per_dimension' not in kwargs\n",
      "            a = nengo.Ensemble(kwargs['n_neurons'], d)\n",
      "            b = nengo.Ensemble(kwargs['n_neurons'], d)\n",
      "\n",
      "        nengo.Connection(inp, inp_, synapse=0.01)\n",
      "        nengo.Connection(inp_, a)\n",
      "        nengo.Connection(a, b)\n",
      "\n",
      "        p_a = nengo.Probe(a.neurons)\n",
      "        p_inp = nengo.Probe(inp_)\n",
      "\n",
      "    sim = nengo.Simulator(model)\n",
      "    sim.run(10.)\n",
      "\n",
      "    spikes_per_step = np.sum(sim.data[p_a]/1000., axis=1)\n",
      "    mean_spikes_per_step = np.mean(spikes_per_step)\n",
      "    dev_spikes_per_step = np.std(spikes_per_step)\n",
      "    \n",
      "    return mean_spikes_per_step, dev_spikes_per_step"
     ],
     "language": "python",
     "metadata": {},
     "outputs": []
    },
    {
     "cell_type": "code",
     "collapsed": false,
     "input": [
      "dims = np.arange(1, 33)\n",
      "means_varying = np.zeros(len(dims))\n",
      "devs_varying = np.zeros(len(dims))\n",
      "means_fixed = np.zeros(len(dims))\n",
      "devs_fixed = np.zeros(len(dims))\n",
      "\n",
      "for i, d in enumerate(dims):\n",
      "    print d\n",
      "    means_varying[i], devs_varying[i] = simulate_with_d(d, neurons_per_dimension=neurons_per_dimension)"
     ],
     "language": "python",
     "metadata": {},
     "outputs": []
    },
    {
     "cell_type": "code",
     "collapsed": false,
     "input": [
      "# Determine the point at which 5000 synaptic events have been crossed\n",
      "synaptic_events = means_varying * np.array(dims) * neurons_per_dimension\n",
      "passed_5000 = dims[np.where(synaptic_events > 5000)[0][0]]\n",
      "\n",
      "show_dims = [0, 4, 8, 12, 16, 20, 24, 28, 32]\n",
      "\n",
      "# Plot the result\n",
      "fig, ax = plt.subplots(figsize=(3.375, 2.25))\n",
      "\n",
      "ax.set_xlabel('Number of dimensions')\n",
      "ax.set_ylabel('Spikes per timestep')\n",
      "\n",
      "ax.plot(dims, means_varying)\n",
      "ax.errorbar(dims, means_varying, devs_varying,\n",
      "            label='Spikes\\n({:d} neurons per dimension)'.format(neurons_per_dimension))\n",
      "\n",
      "ax.set_xlim(0, 33)\n",
      "\n",
      "ax.set_xticks(show_dims)\n",
      "ax.set_xticklabels(['{}'.format(d) for d in show_dims])\n",
      "\n",
      "ax.axvline(passed_5000, 0, 1)\n",
      "\n",
      "ax.set_title('Synaptic events (Communication channel)')\n",
      "fig.tight_layout(pad=0.5)\n",
      "fig.savefig('paper/figures/network-1.pdf')\n",
      "\n",
      "\n",
      "np.savetxt(\n",
      "    'paper/figures/network-1.csv',\n",
      "    np.vstack([dims, means_varying, devs_varying, synaptic_events]).T,\n",
      "    header='Dimensions, Mean Spike Rate / kHz, Deviation, Synaptic events per ms',\n",
      "    fmt='%d'\n",
      ")"
     ],
     "language": "python",
     "metadata": {},
     "outputs": []
    },
    {
     "cell_type": "code",
     "collapsed": false,
     "input": [],
     "language": "python",
     "metadata": {},
     "outputs": []
    }
   ],
   "metadata": {}
  }
 ]
}