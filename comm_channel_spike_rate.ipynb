{
 "metadata": {
  "name": "comm_channel_spike_rate"
 },
 "nbformat": 3,
 "nbformat_minor": 0,
 "worksheets": [
  {
   "cells": [
    {
     "cell_type": "code",
     "collapsed": false,
     "input": [
      "import numpy\n",
      "import nengo\n",
      "import matplotlib.pyplot as plt\n",
      "\n",
      "from nengo.utils.functions import whitenoise\n",
      "from nengo.utils.ensemble import tuning_curves\n",
      "\n",
      "for d in [1, 2, 4, 8, 16, 32, 64]:\n",
      "    for e in [10, 20, 50, 100, 200, 500, 1000, 2000]:\n",
      "        m = nengo.Network(label='Comms channel')\n",
      "        with m:\n",
      "            inp = nengo.Node(whitenoise(0.1, 5, dimensions=d), label = \"inp\")\n",
      "            inp_p = nengo.Probe(inp)\n",
      "            \n",
      "            pre = nengo.Ensemble(e, dimensions=d, label = \"pre\")\n",
      "            pre_p = nengo.Probe(pre, synapse=0.01)\n",
      "            nengo.Connection(inp, pre)\n",
      "            \n",
      "            post = nengo.Ensemble(e, dimensions=d, label = \"post\")\n",
      "            post_p = nengo.Probe(post, synapse = 0.01)\n",
      "            conns = nengo.Connection(pre, post)#, function=lambda x: numpy.random.random(d))\n",
      "        \n",
      "            # We build the model but don't run it in order to use the built results in the PyNN scripts\n",
      "            sim = nengo.Simulator(m)\n",
      "            \n",
      "            # Tuning curves of A neurons (mostly for debugging)\n",
      "            eval_points, activities = tuning_curves(pre, sim)\n",
      "            #plt.figure()\n",
      "            #plt.plot(eval_points, activities);\n",
      "            \n",
      "            # Plot mean rates\n",
      "            mean_rates = numpy.mean(activities, axis=1)\n",
      "            #plt.figure()\n",
      "            #plt.plot(eval_points, mean_rates)\n",
      "            \n",
      "            mean_rate = numpy.mean(mean_rates)\n",
      "            \n",
      "            print \"%u neurons, %u dimensions:\" % (e, d)\n",
      "            print \"\\tMean: %f Hz\" % mean_rate\n",
      "            print \"\\tMean probability to spike %f\" % (mean_rate / 1000.0)\n",
      "\n"
     ],
     "language": "python",
     "metadata": {},
     "outputs": [
      {
       "output_type": "stream",
       "stream": "stdout",
       "text": [
        "10 neurons, 1 dimensions:\n",
        "\tMean: 120.943745 Hz\n",
        "\tMean probability to spike 0.120944\n",
        "20 neurons, 1 dimensions:\n",
        "\tMean: 81.800149 Hz\n",
        "\tMean probability to spike 0.081800\n",
        "50 neurons, 1 dimensions:"
       ]
      },
      {
       "output_type": "stream",
       "stream": "stdout",
       "text": [
        "\n",
        "\tMean: 96.543222 Hz\n",
        "\tMean probability to spike 0.096543\n",
        "100 neurons, 1 dimensions:"
       ]
      },
      {
       "output_type": "stream",
       "stream": "stdout",
       "text": [
        "\n",
        "\tMean: 112.725845 Hz\n",
        "\tMean probability to spike 0.112726\n",
        "200 neurons, 1 dimensions:"
       ]
      },
      {
       "output_type": "stream",
       "stream": "stdout",
       "text": [
        "\n",
        "\tMean: 101.427969 Hz\n",
        "\tMean probability to spike 0.101428\n",
        "500 neurons, 1 dimensions:"
       ]
      },
      {
       "output_type": "stream",
       "stream": "stdout",
       "text": [
        "\n",
        "\tMean: 103.495619 Hz\n",
        "\tMean probability to spike 0.103496\n",
        "1000 neurons, 1 dimensions:"
       ]
      },
      {
       "output_type": "stream",
       "stream": "stdout",
       "text": [
        "\n",
        "\tMean: 101.863709 Hz\n",
        "\tMean probability to spike 0.101864\n",
        "2000 neurons, 1 dimensions:"
       ]
      },
      {
       "output_type": "stream",
       "stream": "stdout",
       "text": [
        "\n",
        "\tMean: 100.032357 Hz\n",
        "\tMean probability to spike 0.100032\n",
        "10 neurons, 2 dimensions:\n",
        "\tMean: 115.910638 Hz\n",
        "\tMean probability to spike 0.115911\n",
        "20 neurons, 2 dimensions:"
       ]
      },
      {
       "output_type": "stream",
       "stream": "stdout",
       "text": [
        "\n",
        "\tMean: 86.746613 Hz\n",
        "\tMean probability to spike 0.086747\n",
        "50 neurons, 2 dimensions:"
       ]
      },
      {
       "output_type": "stream",
       "stream": "stdout",
       "text": [
        "\n",
        "\tMean: 109.342114 Hz\n",
        "\tMean probability to spike 0.109342\n",
        "100 neurons, 2 dimensions:"
       ]
      },
      {
       "output_type": "stream",
       "stream": "stdout",
       "text": [
        "\n",
        "\tMean: 98.902452 Hz\n",
        "\tMean probability to spike 0.098902\n",
        "200 neurons, 2 dimensions:"
       ]
      },
      {
       "output_type": "stream",
       "stream": "stdout",
       "text": [
        "\n",
        "\tMean: 94.047883 Hz\n",
        "\tMean probability to spike 0.094048\n",
        "500 neurons, 2 dimensions:"
       ]
      },
      {
       "output_type": "stream",
       "stream": "stdout",
       "text": [
        "\n",
        "\tMean: 97.392331 Hz\n",
        "\tMean probability to spike 0.097392\n",
        "1000 neurons, 2 dimensions:"
       ]
      },
      {
       "output_type": "stream",
       "stream": "stdout",
       "text": [
        "\n",
        "\tMean: 100.366656 Hz\n",
        "\tMean probability to spike 0.100367\n",
        "2000 neurons, 2 dimensions:"
       ]
      },
      {
       "output_type": "stream",
       "stream": "stdout",
       "text": [
        "\n",
        "\tMean: 95.457568 Hz\n",
        "\tMean probability to spike 0.095458\n",
        "10 neurons, 4 dimensions:\n",
        "\tMean: 86.871696 Hz\n",
        "\tMean probability to spike 0.086872\n",
        "20 neurons, 4 dimensions:"
       ]
      },
      {
       "output_type": "stream",
       "stream": "stdout",
       "text": [
        "\n",
        "\tMean: 88.001079 Hz\n",
        "\tMean probability to spike 0.088001\n",
        "50 neurons, 4 dimensions:"
       ]
      },
      {
       "output_type": "stream",
       "stream": "stdout",
       "text": [
        "\n",
        "\tMean: 79.921746 Hz\n",
        "\tMean probability to spike 0.079922\n",
        "100 neurons, 4 dimensions:"
       ]
      },
      {
       "output_type": "stream",
       "stream": "stdout",
       "text": [
        "\n",
        "\tMean: 97.963961 Hz\n",
        "\tMean probability to spike 0.097964\n",
        "200 neurons, 4 dimensions:"
       ]
      },
      {
       "output_type": "stream",
       "stream": "stdout",
       "text": [
        "\n",
        "\tMean: 88.542872 Hz\n",
        "\tMean probability to spike 0.088543\n",
        "500 neurons, 4 dimensions:"
       ]
      },
      {
       "output_type": "stream",
       "stream": "stdout",
       "text": [
        "\n",
        "\tMean: 94.209706 Hz\n",
        "\tMean probability to spike 0.094210\n",
        "1000 neurons, 4 dimensions:"
       ]
      },
      {
       "output_type": "stream",
       "stream": "stdout",
       "text": [
        "\n",
        "\tMean: 96.453620 Hz\n",
        "\tMean probability to spike 0.096454\n",
        "2000 neurons, 4 dimensions:"
       ]
      },
      {
       "output_type": "stream",
       "stream": "stdout",
       "text": [
        "\n",
        "\tMean: 89.088441 Hz\n",
        "\tMean probability to spike 0.089088\n",
        "10 neurons, 8 dimensions:"
       ]
      },
      {
       "output_type": "stream",
       "stream": "stdout",
       "text": [
        "\n",
        "\tMean: 98.071911 Hz\n",
        "\tMean probability to spike 0.098072\n",
        "20 neurons, 8 dimensions:"
       ]
      },
      {
       "output_type": "stream",
       "stream": "stdout",
       "text": [
        "\n",
        "\tMean: 89.754594 Hz\n",
        "\tMean probability to spike 0.089755\n",
        "50 neurons, 8 dimensions:"
       ]
      },
      {
       "output_type": "stream",
       "stream": "stdout",
       "text": [
        "\n",
        "\tMean: 65.592683 Hz\n",
        "\tMean probability to spike 0.065593\n",
        "100 neurons, 8 dimensions:"
       ]
      },
      {
       "output_type": "stream",
       "stream": "stdout",
       "text": [
        "\n",
        "\tMean: 89.754286 Hz\n",
        "\tMean probability to spike 0.089754\n",
        "200 neurons, 8 dimensions:"
       ]
      },
      {
       "output_type": "stream",
       "stream": "stdout",
       "text": [
        "\n",
        "\tMean: 84.261325 Hz\n",
        "\tMean probability to spike 0.084261\n",
        "500 neurons, 8 dimensions:"
       ]
      },
      {
       "output_type": "stream",
       "stream": "stdout",
       "text": [
        "\n",
        "\tMean: 93.189592 Hz\n",
        "\tMean probability to spike 0.093190\n",
        "1000 neurons, 8 dimensions:"
       ]
      },
      {
       "output_type": "stream",
       "stream": "stdout",
       "text": [
        "\n",
        "\tMean: 87.444535 Hz\n",
        "\tMean probability to spike 0.087445\n",
        "2000 neurons, 8 dimensions:"
       ]
      },
      {
       "output_type": "stream",
       "stream": "stdout",
       "text": [
        "\n",
        "\tMean: 87.786332 Hz\n",
        "\tMean probability to spike 0.087786\n",
        "10 neurons, 16 dimensions:"
       ]
      },
      {
       "output_type": "stream",
       "stream": "stdout",
       "text": [
        "\n",
        "\tMean: 132.865333 Hz\n",
        "\tMean probability to spike 0.132865\n",
        "20 neurons, 16 dimensions:"
       ]
      },
      {
       "output_type": "stream",
       "stream": "stdout",
       "text": [
        "\n",
        "\tMean: 64.335487 Hz\n",
        "\tMean probability to spike 0.064335\n",
        "50 neurons, 16 dimensions:"
       ]
      },
      {
       "output_type": "stream",
       "stream": "stdout",
       "text": [
        "\n",
        "\tMean: 86.866536 Hz\n",
        "\tMean probability to spike 0.086867\n",
        "100 neurons, 16 dimensions:"
       ]
      },
      {
       "output_type": "stream",
       "stream": "stdout",
       "text": [
        "\n",
        "\tMean: 85.812671 Hz\n",
        "\tMean probability to spike 0.085813\n",
        "200 neurons, 16 dimensions:"
       ]
      },
      {
       "output_type": "stream",
       "stream": "stdout",
       "text": [
        "\n",
        "\tMean: 88.190987 Hz\n",
        "\tMean probability to spike 0.088191\n",
        "500 neurons, 16 dimensions:"
       ]
      },
      {
       "output_type": "stream",
       "stream": "stdout",
       "text": [
        "\n",
        "\tMean: 88.977562 Hz\n",
        "\tMean probability to spike 0.088978\n",
        "1000 neurons, 16 dimensions:"
       ]
      },
      {
       "output_type": "stream",
       "stream": "stdout",
       "text": [
        "\n",
        "\tMean: 89.471331 Hz\n",
        "\tMean probability to spike 0.089471\n",
        "2000 neurons, 16 dimensions:"
       ]
      },
      {
       "output_type": "stream",
       "stream": "stdout",
       "text": [
        "\n",
        "\tMean: 88.387945 Hz\n",
        "\tMean probability to spike 0.088388\n",
        "10 neurons, 32 dimensions:"
       ]
      },
      {
       "output_type": "stream",
       "stream": "stdout",
       "text": [
        "\n",
        "\tMean: 103.784060 Hz\n",
        "\tMean probability to spike 0.103784\n",
        "20 neurons, 32 dimensions:"
       ]
      },
      {
       "output_type": "stream",
       "stream": "stdout",
       "text": [
        "\n",
        "\tMean: 84.186423 Hz\n",
        "\tMean probability to spike 0.084186\n",
        "50 neurons, 32 dimensions:"
       ]
      },
      {
       "output_type": "stream",
       "stream": "stdout",
       "text": [
        "\n",
        "\tMean: 64.205525 Hz\n",
        "\tMean probability to spike 0.064206\n",
        "100 neurons, 32 dimensions:"
       ]
      },
      {
       "output_type": "stream",
       "stream": "stdout",
       "text": [
        "\n",
        "\tMean: 76.810976 Hz\n",
        "\tMean probability to spike 0.076811\n",
        "200 neurons, 32 dimensions:"
       ]
      },
      {
       "output_type": "stream",
       "stream": "stdout",
       "text": [
        "\n",
        "\tMean: 102.799206 Hz\n",
        "\tMean probability to spike 0.102799\n",
        "500 neurons, 32 dimensions:"
       ]
      },
      {
       "output_type": "stream",
       "stream": "stdout",
       "text": [
        "\n",
        "\tMean: 85.815052 Hz\n",
        "\tMean probability to spike 0.085815\n",
        "1000 neurons, 32 dimensions:"
       ]
      },
      {
       "output_type": "stream",
       "stream": "stdout",
       "text": [
        "\n",
        "\tMean: 82.884590 Hz\n",
        "\tMean probability to spike 0.082885\n",
        "2000 neurons, 32 dimensions:"
       ]
      },
      {
       "output_type": "stream",
       "stream": "stdout",
       "text": [
        "\n",
        "\tMean: 83.739047 Hz\n",
        "\tMean probability to spike 0.083739\n",
        "10 neurons, 64 dimensions:"
       ]
      },
      {
       "output_type": "stream",
       "stream": "stdout",
       "text": [
        "\n",
        "\tMean: 73.863804 Hz\n",
        "\tMean probability to spike 0.073864\n",
        "20 neurons, 64 dimensions:"
       ]
      },
      {
       "output_type": "stream",
       "stream": "stdout",
       "text": [
        "\n",
        "\tMean: 22.226990 Hz\n",
        "\tMean probability to spike 0.022227\n",
        "50 neurons, 64 dimensions:"
       ]
      },
      {
       "output_type": "stream",
       "stream": "stdout",
       "text": [
        "\n",
        "\tMean: 84.501082 Hz\n",
        "\tMean probability to spike 0.084501\n",
        "100 neurons, 64 dimensions:"
       ]
      },
      {
       "output_type": "stream",
       "stream": "stdout",
       "text": [
        "\n",
        "\tMean: 71.588959 Hz\n",
        "\tMean probability to spike 0.071589\n",
        "200 neurons, 64 dimensions:"
       ]
      },
      {
       "output_type": "stream",
       "stream": "stdout",
       "text": [
        "\n",
        "\tMean: 75.156738 Hz\n",
        "\tMean probability to spike 0.075157\n",
        "500 neurons, 64 dimensions:"
       ]
      },
      {
       "output_type": "stream",
       "stream": "stdout",
       "text": [
        "\n",
        "\tMean: 80.903440 Hz\n",
        "\tMean probability to spike 0.080903\n",
        "1000 neurons, 64 dimensions:"
       ]
      },
      {
       "output_type": "stream",
       "stream": "stdout",
       "text": [
        "\n",
        "\tMean: 82.987925 Hz\n",
        "\tMean probability to spike 0.082988\n",
        "2000 neurons, 64 dimensions:"
       ]
      },
      {
       "output_type": "stream",
       "stream": "stdout",
       "text": [
        "\n",
        "\tMean: 81.300073 Hz\n",
        "\tMean probability to spike 0.081300\n"
       ]
      }
     ],
     "prompt_number": 28
    },
    {
     "cell_type": "code",
     "collapsed": false,
     "input": [],
     "language": "python",
     "metadata": {},
     "outputs": []
    }
   ],
   "metadata": {}
  }
 ]
}