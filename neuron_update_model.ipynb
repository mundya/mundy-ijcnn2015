{
 "metadata": {
  "name": "neuron_update_model"
 },
 "nbformat": 3,
 "nbformat_minor": 0,
 "worksheets": [
  {
   "cells": [
    {
     "cell_type": "raw",
     "metadata": {},
     "source": [
      "CSV loading"
     ]
    },
    {
     "cell_type": "code",
     "collapsed": false,
     "input": [
      "import csv\n",
      "import numpy\n",
      "\n",
      "csv_file = open(\"paper/figures/profile_paper.csv\", \"rb\")\n",
      "\n",
      "# Read csv rows and unzip into columns\n",
      "columns = zip(*csv.reader(csv_file))\n",
      "\n",
      "# Extract dimensions and numpyify\n",
      "numpy_columns = numpy.array(columns, dtype=\"float\")\n",
      "\n",
      "numpy_columns[6:,] *= 200000\n",
      "\n",
      "# Turn off scientific printing\n",
      "numpy.set_printoptions(suppress=True)"
     ],
     "language": "python",
     "metadata": {},
     "outputs": [],
     "prompt_number": 3
    },
    {
     "cell_type": "raw",
     "metadata": {},
     "source": [
      "Least-squares fitting"
     ]
    },
    {
     "cell_type": "code",
     "collapsed": false,
     "input": [
      "from scipy.optimize import leastsq\n",
      "\n",
      "# curtesy of http://stackoverflow.com/questions/12299540/plane-fitting-to-4-or-more-xyz-points\n",
      "def fit_plane(data, column_indices, coefficients):\n",
      "    # Take appropriate columns\n",
      "    column_subset = numpy_columns.take(column_indices, axis=0)\n",
      "    \n",
      "    # Check sanity\n",
      "    assert len(coefficients) == (len(column_indices) + 1), \"Wrong number of coefficients\"\n",
      "    \n",
      "    def f_min(x, p):\n",
      "        plane_mult = p[0:-1]\n",
      "        #print p, plane_mult\n",
      "        distance = (plane_mult * x.T).sum(axis=1) + p[-1]\n",
      "        return distance / numpy.linalg.norm(plane_mult)\n",
      "\n",
      "    def residuals(params, signal, x):\n",
      "        return f_min(x, params)\n",
      "    \n",
      "    # Regress\n",
      "    sol = leastsq(residuals, coefficients, args=(None, column_subset))[0]\n",
      "    \n",
      "    # Re-arrange to get result in terms of final column\n",
      "    rearranged = numpy.append(-sol[0:-2] / sol[-2], sol[-1] / -sol[-2])\n",
      "    print \"\\tResult in CPU cycles: \", rearranged\n",
      "    print \"\\tOld Error: \", (f_min(column_subset, coefficients)**2).sum()\n",
      "    print \"\\tNew Error: \", (f_min(column_subset, sol)**2).sum()\n",
      "\n",
      "print(\"Input filter\")\n",
      "fit_plane(numpy_columns, [0, 7], [1, 1, 1])\n",
      "\n",
      "print(\"Output\")\n",
      "fit_plane(numpy_columns, [0, 9], [1, 1, 1])"
     ],
     "language": "python",
     "metadata": {},
     "outputs": [
      {
       "output_type": "stream",
       "stream": "stdout",
       "text": [
        "Input filter\n",
        "\tResult in percentage:  [  43.2434615   244.81202993]\n",
        "\tOld Error:  24343803.1481\n",
        "\tNew Error:  0.516847875217\n",
        "Output\n",
        "\tResult in percentage:  [ 0.00350981  0.00049851]\n",
        "\tOld Error:  9669.42072517\n",
        "\tNew Error:  4.91403632619e-09\n"
       ]
      }
     ],
     "prompt_number": 6
    },
    {
     "cell_type": "raw",
     "metadata": {},
     "source": [
      "Polynomial fit"
     ]
    },
    {
     "cell_type": "code",
     "collapsed": false,
     "input": [
      "import itertools\n",
      "import numpy as np\n",
      "import matplotlib.pyplot as plt\n",
      "\n",
      "# Curtesy of http://stackoverflow.com/questions/7997152/python-3d-polynomial-surface-fit-order-dependent\n",
      "def polyfit2d(x, y, z, order=3):\n",
      "    ncols = (order + 1)**2\n",
      "    G = np.zeros((x.size, ncols))\n",
      "    ij = itertools.product(range(order+1), range(order+1))\n",
      "    for k, (i,j) in enumerate(ij):\n",
      "        G[:,k] = x**i * y**j\n",
      "    m, _, _, _ = np.linalg.lstsq(G, z)\n",
      "    return m\n",
      "\n",
      "# Fit a 1st order, 2d polynomial\n",
      "m = polyfit2d(numpy_columns[0], numpy_columns[1], numpy_columns[8], 1)\n",
      "print m\n",
      "\n",
      "# Evaluate\n",
      "v = (numpy_columns[1] * m[1]) + (numpy_columns[0] * m[2]) +\\\n",
      "    (numpy_columns[0] * numpy_columns[1] * m[3]) + m[0]\n",
      "print v\n"
     ],
     "language": "python",
     "metadata": {},
     "outputs": [
      {
       "output_type": "stream",
       "stream": "stdout",
       "text": [
        "[ 188.24720329   69.44939769   -1.54631488   13.0065635 ]\n",
        "[   1011.2605003     1835.82011219    4309.49894785    8432.2970073\n",
        "   16677.89312618   41414.68148284   82642.66207727  165098.62326612\n",
        "    1139.77982045    2094.40506737    4958.28080814    9731.40704274\n",
        "   19277.65951195   47916.41691958   95647.67926563    1396.81846076\n",
        "    2611.57497775    6255.84452871   12329.62711363   24477.19228349\n",
        "   60919.88779307    1910.89574138    3645.9147985     8850.97196984\n",
        "   17526.06725542   34876.25782658   86926.82954004    2939.05030262\n",
        "    5714.59444      14041.22685212   27918.94753899   55674.38891274\n",
        "    4995.3594251     9851.95372299   24421.73661667   48704.70810614\n",
        "    9107.97767005   18126.67228898   45182.75614577]\n"
       ]
      }
     ],
     "prompt_number": 7
    },
    {
     "cell_type": "code",
     "collapsed": false,
     "input": [],
     "language": "python",
     "metadata": {},
     "outputs": []
    }
   ],
   "metadata": {}
  }
 ]
}