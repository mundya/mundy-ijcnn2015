{
 "metadata": {
  "name": ""
 },
 "nbformat": 3,
 "nbformat_minor": 0,
 "worksheets": [
  {
   "cells": [
    {
     "cell_type": "raw",
     "metadata": {},
     "source": [
      "CSV loading"
     ]
    },
    {
     "cell_type": "code",
     "collapsed": false,
     "input": [
      "import csv\n",
      "import numpy\n",
      "\n",
      "csv_file = open(\"paper/figures/profile_paper.csv\", \"rb\")\n",
      "\n",
      "# Read csv rows and unzip into columns\n",
      "columns = zip(*csv.reader(csv_file))\n",
      "\n",
      "# Extract dimensions and numpyify\n",
      "numpy_columns = numpy.array(columns, dtype=\"float\")\n",
      "\n",
      "# Turn off scientific printing\n",
      "numpy.set_printoptions(suppress=True)"
     ],
     "language": "python",
     "metadata": {},
     "outputs": [],
     "prompt_number": 99
    },
    {
     "cell_type": "raw",
     "metadata": {},
     "source": [
      "Least-squares fitting"
     ]
    },
    {
     "cell_type": "code",
     "collapsed": false,
     "input": [
      "from scipy.optimize import leastsq\n",
      "\n",
      "# curtesy of http://stackoverflow.com/questions/12299540/plane-fitting-to-4-or-more-xyz-points\n",
      "def fit_plane(data, column_indices, coefficients):\n",
      "    # Take appropriate columns\n",
      "    column_subset = numpy_columns.take(column_indices, axis=0)\n",
      "    \n",
      "    # Check sanity\n",
      "    assert len(coefficients) == (len(column_indices) + 1), \"Wrong number of coefficients\"\n",
      "    \n",
      "    def f_min(x, p):\n",
      "        plane_mult = p[0:-1]\n",
      "        #print p, plane_mult\n",
      "        distance = (plane_mult * x.T).sum(axis=1) + p[-1]\n",
      "        return distance / np.linalg.norm(plane_mult)\n",
      "\n",
      "    def residuals(params, signal, x):\n",
      "        return f_min(x, params)\n",
      "    \n",
      "    # Regress\n",
      "    sol = leastsq(residuals, coefficients, args=(None, column_subset))[0]\n",
      "    \n",
      "    # Re-arrange to get result in terms of final column\n",
      "    rearranged = numpy.append(-sol[0:-2] / sol[-2], sol[-1] / -sol[-2])\n",
      "    print \"\\tResult in percentage: \", rearranged\n",
      "    print \"\\tOld Error: \", (f_min(column_subset, coefficients)**2).sum()\n",
      "    print \"\\tNew Error: \", (f_min(column_subset, sol)**2).sum()\n",
      "\n",
      "print(\"Input filter\")\n",
      "fit_plane(numpy_columns, [0, 7], [1, 1, 1])\n",
      "\n",
      "print(\"Output\")\n",
      "fit_plane(numpy_columns, [0, 9], [1, 1, 1])"
     ],
     "language": "python",
     "metadata": {},
     "outputs": [
      {
       "output_type": "stream",
       "stream": "stdout",
       "text": [
        "Input filter\n",
        "\tResult in percentage:  [ 0.00021621  0.00122418]\n",
        "\tOld Error:  9608.19053786\n",
        "\tNew Error:  2.41744552405e-08\n",
        "Output\n",
        "\tResult in percentage:  [ 0.00350981  0.00049851]\n",
        "\tOld Error:  9669.42072517\n",
        "\tNew Error:  4.91403630708e-09\n"
       ]
      }
     ],
     "prompt_number": 100
    },
    {
     "cell_type": "raw",
     "metadata": {},
     "source": [
      "Polynomial fit"
     ]
    },
    {
     "cell_type": "code",
     "collapsed": false,
     "input": [
      "import itertools\n",
      "import numpy as np\n",
      "import matplotlib.pyplot as plt\n",
      "\n",
      "# Curtesy of http://stackoverflow.com/questions/7997152/python-3d-polynomial-surface-fit-order-dependent\n",
      "def polyfit2d(x, y, z, order=3):\n",
      "    ncols = (order + 1)**2\n",
      "    G = np.zeros((x.size, ncols))\n",
      "    ij = itertools.product(range(order+1), range(order+1))\n",
      "    for k, (i,j) in enumerate(ij):\n",
      "        G[:,k] = x**i * y**j\n",
      "    m, _, _, _ = np.linalg.lstsq(G, z)\n",
      "    return m\n",
      "\n",
      "# Fit a 1st order, 2d polynomial\n",
      "m = polyfit2d(numpy_columns[0], numpy_columns[1], numpy_columns[8], 1)\n",
      "print m\n",
      "\n",
      "# Evaluate\n",
      "#v = (numpy_columns[1] * m[1]) + (numpy_columns[0] * m[2]) +\\\n",
      "#    (numpy_columns[0] * numpy_columns[1] * m[3]) + m[0]\n",
      "#print v\n"
     ],
     "language": "python",
     "metadata": {},
     "outputs": [
      {
       "output_type": "stream",
       "stream": "stdout",
       "text": [
        "[ 0.00094124  0.00034725 -0.00000773  0.00006503]\n"
       ]
      }
     ],
     "prompt_number": 101
    }
   ],
   "metadata": {}
  }
 ]
}