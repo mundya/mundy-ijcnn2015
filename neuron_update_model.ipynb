{
 "metadata": {
  "name": "neuron_update_model"
 },
 "nbformat": 3,
 "nbformat_minor": 0,
 "worksheets": [
  {
   "cells": [
    {
     "cell_type": "code",
     "collapsed": false,
     "input": [
      "import csv\n",
      "import numpy\n",
      "from scipy.optimize import leastsq\n",
      "\n",
      "def fit_plane(data, column_indices, coefficients):\n",
      "    # Take appropriate columns\n",
      "    column_subset = numpy_columns.take(column_indices, axis=0)\n",
      "    \n",
      "    # Check sanity\n",
      "    assert len(coefficients) == (len(column_indices) + 1), \"Wrong number of coefficients\"\n",
      "    \n",
      "    def f_min(x, p):\n",
      "        plane_mult = p[0:-1]\n",
      "        #print p, plane_mult\n",
      "        distance = (plane_mult * x.T).sum(axis=1) + p[-1]\n",
      "        return distance / np.linalg.norm(plane_mult)\n",
      "\n",
      "    def residuals(params, signal, x):\n",
      "        return f_min(x, params)\n",
      "    \n",
      "    sol = leastsq(residuals, coefficients, args=(None, column_subset))[0]\n",
      "    \n",
      "    rearranged = numpy.append(sol[0:-2] / -sol[-2], sol[-1] / -sol[-2])\n",
      "    print \"\\tSolution: \", rearranged\n",
      "    print \"\\tOld Error: \", (f_min(column_subset, coefficients)**2).sum()\n",
      "    print \"\\tNew Error: \", (f_min(column_subset, sol)**2).sum()\n",
      "    \n",
      "    return sol\n",
      "\n",
      "with open(\"paper/figures/profile_paper.csv\", \"rb\") as csv_file:\n",
      "    # Read csv rows and unzip into columns\n",
      "    columns = zip(*csv.reader(csv_file))\n",
      "    \n",
      "    # Extract dimensions and numpyify\n",
      "    numpy_columns = numpy.array(columns, dtype=\"float\")\n",
      "    \n",
      "    cycles_per_tick = 200000.0\n",
      "    \n",
      "    # Covert proportions into cycles\n",
      "    numpy_columns[6:] *= cycles_per_tick\n",
      "    \n",
      "    # Turn off scientific printing\n",
      "    numpy.set_printoptions(suppress=True)\n",
      "    \n",
      "    print(\"Input filter\")\n",
      "    fit_plane(numpy_columns, [0, 7], [40, 200, 1])\n",
      "    \n",
      "    print(\"Neuron update\")\n",
      "    fit_plane(numpy_columns, [0, 1, 8], [1.0, 1.0, 1.0, 1.0])\n",
      "    \n",
      "    \n",
      "    print(\"Output\")\n",
      "    fit_plane(numpy_columns, [0, 9], [700, 100, 1])\n",
      "   "
     ],
     "language": "python",
     "metadata": {},
     "outputs": [
      {
       "output_type": "stream",
       "stream": "stdout",
       "text": [
        "Input filter\n",
        "\tSolution:  [  43.24346272  244.81202993]\n",
        "\tOld Error:  45342584.2944\n",
        "\tNew Error:  0.516847875577\n",
        "Neuron update\n",
        "\tSolution:  [ nan  nan  nan]\n",
        "\tOld Error:  nan\n",
        "\tNew Error:  nan\n",
        "Output\n",
        "\tSolution:  [ 701.9617961    99.70221824]\n",
        "\tOld Error:  184159745.961\n",
        "\tNew Error:  0.000398910875256\n"
       ]
      }
     ],
     "prompt_number": 81
    },
    {
     "cell_type": "code",
     "collapsed": false,
     "input": [],
     "language": "python",
     "metadata": {},
     "outputs": [],
     "prompt_number": 71
    },
    {
     "cell_type": "code",
     "collapsed": false,
     "input": [],
     "language": "python",
     "metadata": {},
     "outputs": [],
     "prompt_number": 60
    },
    {
     "cell_type": "code",
     "collapsed": false,
     "input": [],
     "language": "python",
     "metadata": {},
     "outputs": [],
     "prompt_number": 60
    },
    {
     "cell_type": "code",
     "collapsed": false,
     "input": [],
     "language": "python",
     "metadata": {},
     "outputs": [],
     "prompt_number": 60
    },
    {
     "cell_type": "code",
     "collapsed": false,
     "input": [],
     "language": "python",
     "metadata": {},
     "outputs": [],
     "prompt_number": 60
    },
    {
     "cell_type": "code",
     "collapsed": false,
     "input": [],
     "language": "python",
     "metadata": {},
     "outputs": [],
     "prompt_number": 60
    },
    {
     "cell_type": "code",
     "collapsed": false,
     "input": [],
     "language": "python",
     "metadata": {},
     "outputs": [],
     "prompt_number": 60
    }
   ],
   "metadata": {}
  }
 ]
}